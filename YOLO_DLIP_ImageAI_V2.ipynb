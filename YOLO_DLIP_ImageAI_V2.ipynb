{
  "nbformat": 4,
  "nbformat_minor": 0,
  "metadata": {
    "accelerator": "GPU",
    "colab": {
      "name": "YOLO_DLIP_ImageAI_V2.ipynb",
      "provenance": [],
      "collapsed_sections": []
    },
    "kernelspec": {
      "display_name": "Python 3",
      "name": "python3"
    }
  },
  "cells": [
    {
      "cell_type": "markdown",
      "metadata": {
        "id": "fI4LJreY4bmk"
      },
      "source": [
        "# Cargar la carpeta de drive personal \n"
      ]
    },
    {
      "cell_type": "markdown",
      "metadata": {
        "id": "rMOnYXti7lXf"
      },
      "source": [
        "(opción más rápida para carga y descarga de archivos)*(paso opcional)*"
      ]
    },
    {
      "cell_type": "code",
      "metadata": {
        "id": "RBFD57UQcXru"
      },
      "source": [
        "from google.colab import drive\n",
        "drive.mount('/content/drive')\n",
        "#Tarda unos segundos en montar la carpeta en la ruta /content"
      ],
      "execution_count": null,
      "outputs": []
    },
    {
      "cell_type": "markdown",
      "metadata": {
        "id": "WSt9d4E-4WoD"
      },
      "source": [
        "# Instalación y carga de los archivos necesarios para la ejecución "
      ]
    },
    {
      "cell_type": "code",
      "metadata": {
        "id": "OMQHONyelWnC"
      },
      "source": [
        "# Importamos las librerías necesarias\r\n",
        "import os\r\n",
        "import cv2 as cv\r\n",
        "import dlib\r\n",
        "import tensorflow as tf\r\n",
        "import keras as kr\r\n",
        "import numpy as np\r\n",
        "\r\n",
        "# Importamos el repositorio con los archivos \r\n",
        "!git clone https://github.com/JonathanMortes/ImageAI\r\n",
        "# Rama experimental v2\r\n",
        "# !git clone -b v2 https://github.com/JonathanMortes/ImageAI\r\n",
        "\r\n",
        "# Importamos los pesos de la red\r\n",
        "!wget https://github.com/OlafenwaMoses/ImageAI/releases/download/1.0/yolo.h5\r\n",
        "#Instalamos los paquetes compridos en la última versión de los archivos\r\n",
        "!pip install /content/ImageAI/imageai-2.1.6-py3-none-any.whl\r\n"
      ],
      "execution_count": null,
      "outputs": []
    },
    {
      "cell_type": "markdown",
      "metadata": {
        "id": "9Hn8_WCG5c0P"
      },
      "source": [
        "\n",
        "# Ejeccución de la inferencia"
      ]
    },
    {
      "cell_type": "markdown",
      "metadata": {
        "id": "uPr6huTx-9ks"
      },
      "source": [
        "**Se realizará la inferenca con el vídeo de ejemplo video.mp4** \r\n",
        "*(cambiar esto en el caso de querer hacerlo con cualquier otro vídeo)*"
      ]
    },
    {
      "cell_type": "code",
      "metadata": {
        "id": "jIt8yyC4Atq_"
      },
      "source": [
        "# Importación de los últimas librerías recientemente incorporadas\r\n",
        "import os\r\n",
        "from imageai.Detection import VideoObjectDetection\r\n",
        "# Configuramos la ejecución\r\n",
        "execution_path = os.getcwd()\r\n",
        "detector = VideoObjectDetection()\r\n",
        "detector.setModelTypeAsYOLOv3()\r\n",
        "detector.setModelPath( os.path.join(execution_path , \"yolo.h5\"))\r\n",
        "detector.loadModel(detection_speed=\"normal\") \r\n",
        "# Ejecutamos la red con el modelo \r\n",
        "detections = detector.detectObjectsFromVideo(input_file_path=os.path.join(execution_path, \"/content/ImageAI/video.mp4\"), camera_input=None, output_file_path=os.path.join(execution_path, \"output_video\"), frames_per_second=20, frame_detection_interval=1, minimum_percentage_probability=70, log_progress=True, display_percentage_probability=True, display_object_name=True, save_detected_video=True, per_frame_function=None, per_second_function=None, per_minute_function=None, video_complete_function=None, return_detected_frame=True, detection_timeout=None)\r\n",
        "print(detections)"
      ],
      "execution_count": null,
      "outputs": []
    },
    {
      "cell_type": "markdown",
      "metadata": {
        "id": "U7dGSTCY6diY"
      },
      "source": [
        "# Descarga del archivo de salida"
      ]
    },
    {
      "cell_type": "markdown",
      "metadata": {
        "id": "vP6-Dsk96oPT"
      },
      "source": [
        "Alternativamente arrastrar el archivo a la carpeta de drive deseada (opción más rápida)"
      ]
    },
    {
      "cell_type": "code",
      "metadata": {
        "id": "3m6B8V4b6jQv"
      },
      "source": [
        "# Descarga utilizando la opción local\n",
        "from google.colab import files\n",
        "files.download('output_video.avi')"
      ],
      "execution_count": null,
      "outputs": []
    }
  ]
}